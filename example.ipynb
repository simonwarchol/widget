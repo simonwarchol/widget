{
	"cells": [
		{
			"cell_type": "code",
			"execution_count": 2,
			"metadata": {},
			"outputs": [
				{
					"name": "stdout",
					"output_type": "stream",
					"text": [
						"The autoreload extension is already loaded. To reload it, use:\n",
						"  %reload_ext autoreload\n",
						"env: ANYWIDGET_HMR=1\n"
					]
				}
			],
			"source": [
				"%load_ext autoreload\n",
				"%autoreload 2\n",
				"%env ANYWIDGET_HMR=1"
			]
		},
		{
			"cell_type": "code",
			"execution_count": 3,
			"metadata": {},
			"outputs": [
				{
					"data": {
						"application/vnd.jupyter.widget-view+json": {
							"model_id": "cedd9c42bba24d9c80c8dc2bf38c71c3",
							"version_major": 2,
							"version_minor": 1
						},
						"text/plain": [
							"Widget(data={'table': [{'a': 'A', 'b': 28}, {'a': 'B', 'b': 55}, {'a': 'C', 'b': 43}, {'a': 'D', 'b': 91}, {'a…"
						]
					},
					"execution_count": 3,
					"metadata": {},
					"output_type": "execute_result"
				},
				{
					"name": "stdout",
					"output_type": "stream",
					"text": [
						"Max Value changed tooo 10\n",
						"Max Value changed tooo 1\n",
						"Max Value changed tooo 5\n",
						"Max Value changed tooo 50\n",
						"Max Value changed tooo 5\n",
						"Max Value changed tooo 50\n",
						"Max Value changed tooo 1\n",
						"Max Value changed tooo 10\n",
						"Max Value changed tooo 100\n"
					]
				}
			],
			"source": [
				"from widget import Widget\n",
				"Widget()"
			]
		},
		{
			"cell_type": "code",
			"execution_count": null,
			"metadata": {},
			"outputs": [],
			"source": []
		},
		{
			"cell_type": "code",
			"execution_count": null,
			"metadata": {},
			"outputs": [],
			"source": []
		},
		{
			"cell_type": "code",
			"execution_count": 17,
			"metadata": {},
			"outputs": [],
			"source": []
		},
		{
			"cell_type": "code",
			"execution_count": null,
			"metadata": {},
			"outputs": [],
			"source": [
				"# df.to_b\n",
				"# transform dataframe to send to front end\n",
				"df.to_dict(orient='records')\n"
			]
		}
	],
	"metadata": {
		"kernelspec": {
			"display_name": "venv",
			"language": "python",
			"name": "python3"
		},
		"language_info": {
			"codemirror_mode": {
				"name": "ipython",
				"version": 3
			},
			"file_extension": ".py",
			"mimetype": "text/x-python",
			"name": "python",
			"nbconvert_exporter": "python",
			"pygments_lexer": "ipython3",
			"version": "3.10.12"
		}
	},
	"nbformat": 4,
	"nbformat_minor": 2
}
